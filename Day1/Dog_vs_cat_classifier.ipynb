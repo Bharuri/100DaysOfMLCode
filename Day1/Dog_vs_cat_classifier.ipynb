{
 "cells": [
  {
   "cell_type": "code",
   "execution_count": 1,
   "metadata": {},
   "outputs": [],
   "source": [
    "import os, shutil"
   ]
  },
  {
   "cell_type": "code",
   "execution_count": 2,
   "metadata": {},
   "outputs": [],
   "source": [
    "original_base_dir =\"/Users/pushkarsinghbhauryal/downloads/pythontest/train\"\n",
    "base_dir= \"/Users/pushkarsinghbhauryal/downloads/pythontest/cat_and_dog\"\n",
    "if not os.path.exists(base_dir):\n",
    "    os.makedirs(directory)"
   ]
  },
  {
   "cell_type": "code",
   "execution_count": 3,
   "metadata": {},
   "outputs": [],
   "source": [
    "train_dir = os.path.join(base_dir, 'train')\n",
    "if not os.path.exists(train_dir):\n",
    "    os.mkdir(train_dir)\n",
    "validation_dir = os.path.join(base_dir, 'validation')\n",
    "if not os.path.exists(validation_dir):\n",
    "    os.mkdir(validation_dir)\n",
    "test_dir = os.path.join(base_dir, 'test')\n",
    "if not os.path.exists(test_dir):\n",
    "    os.mkdir(test_dir)"
   ]
  },
  {
   "cell_type": "code",
   "execution_count": 4,
   "metadata": {},
   "outputs": [],
   "source": [
    "train_cats_dir = os.path.join(train_dir, 'cats')\n",
    "if not os.path.exists(train_cats_dir):\n",
    "    os.mkdir(train_cats_dir)\n",
    "train_dogs_dir = os.path.join(train_dir, 'dogs')\n",
    "if not os.path.exists(train_dogs_dir):\n",
    "    os.mkdir(train_dogs_dir)\n",
    "validation_cats_dir = os.path.join(validation_dir, 'cats')\n",
    "if not os.path.exists(validation_cats_dir):\n",
    "    os.mkdir(validation_cats_dir)\n",
    "validation_dogs_dir = os.path.join(validation_dir, 'dogs')\n",
    "if not os.path.exists(validation_dogs_dir):\n",
    "    os.mkdir(validation_dogs_dir)\n",
    "test_cats_dir = os.path.join(test_dir, 'cats')\n",
    "if not os.path.exists(test_cats_dir):\n",
    "    os.mkdir(test_cats_dir)\n",
    "test_dogs_dir = os.path.join(test_dir, 'dogs')\n",
    "if not os.path.exists(test_dogs_dir):\n",
    "    os.mkdir(test_dogs_dir)\n"
   ]
  },
  {
   "cell_type": "code",
   "execution_count": 5,
   "metadata": {},
   "outputs": [],
   "source": [
    "fnames = ['cat.{}.jpg'.format(i) for i in range(1500)]\n",
    "for fname in fnames:\n",
    "    src = os.path.join(original_base_dir, fname)\n",
    "    dst = os.path.join(train_cats_dir, fname)\n",
    "    shutil.copyfile(src, dst)"
   ]
  },
  {
   "cell_type": "code",
   "execution_count": 6,
   "metadata": {},
   "outputs": [],
   "source": [
    "fnames = ['cat.{}.jpg'.format(i) for i in range(3000,4000)]\n",
    "for fname in fnames:\n",
    "    src = os.path.join(original_base_dir, fname)\n",
    "    dst = os.path.join(validation_cats_dir, fname)\n",
    "    shutil.copyfile(src, dst)"
   ]
  },
  {
   "cell_type": "code",
   "execution_count": 7,
   "metadata": {},
   "outputs": [],
   "source": [
    "fnames = ['dog.{}.jpg'.format(i) for i in range(1500)]\n",
    "for fname in fnames:\n",
    "    src = os.path.join(original_base_dir, fname)\n",
    "    dst = os.path.join(train_dogs_dir, fname)\n",
    "    shutil.copyfile(src, dst)"
   ]
  },
  {
   "cell_type": "code",
   "execution_count": 8,
   "metadata": {},
   "outputs": [],
   "source": [
    "fnames = ['dog.{}.jpg'.format(i) for i in range(3000,4000)]\n",
    "for fname in fnames:\n",
    "    src = os.path.join(original_base_dir, fname)\n",
    "    dst = os.path.join(validation_dogs_dir, fname)\n",
    "    shutil.copyfile(src, dst)"
   ]
  },
  {
   "cell_type": "code",
   "execution_count": 9,
   "metadata": {},
   "outputs": [],
   "source": [
    "fnames = ['dog.{}.jpg'.format(i) for i in range(4000,4015)]\n",
    "for fname in fnames:\n",
    "    src = os.path.join(original_base_dir, fname)\n",
    "    dst = os.path.join(test_dogs_dir, fname)\n",
    "    shutil.copyfile(src, dst)"
   ]
  },
  {
   "cell_type": "code",
   "execution_count": 10,
   "metadata": {},
   "outputs": [
    {
     "name": "stderr",
     "output_type": "stream",
     "text": [
      "/anaconda3/lib/python3.6/site-packages/h5py/__init__.py:36: FutureWarning: Conversion of the second argument of issubdtype from `float` to `np.floating` is deprecated. In future, it will be treated as `np.float64 == np.dtype(float).type`.\n",
      "  from ._conv import register_converters as _register_converters\n",
      "Using TensorFlow backend.\n"
     ]
    }
   ],
   "source": [
    "from keras import models\n",
    "from keras import layers\n"
   ]
  },
  {
   "cell_type": "code",
   "execution_count": 41,
   "metadata": {},
   "outputs": [],
   "source": [
    "model= models.Sequential()\n",
    "model.add(layers.Conv2D(32,(3,3),activation='relu',input_shape=(150,150,3)))\n",
    "model.add(layers.MaxPooling2D((2,2)))\n",
    "model.add(layers.Conv2D(64,(3,3),activation='relu'))\n",
    "model.add(layers.MaxPooling2D((2,2)))\n",
    "model.add(layers.Conv2D(128,(3,3),activation='relu'))\n",
    "model.add(layers.MaxPooling2D((2,2)))\n",
    "model.add(layers.Conv2D(128,(3,3),activation='relu'))\n",
    "model.add(layers.MaxPooling2D((2,2)))\n",
    "model.add(layers.Flatten())\n",
    "model.add(layers.Dense(512,activation='relu'))\n",
    "model.add(layers.Dense(1,activation='sigmoid'))"
   ]
  },
  {
   "cell_type": "code",
   "execution_count": 42,
   "metadata": {},
   "outputs": [
    {
     "name": "stdout",
     "output_type": "stream",
     "text": [
      "_________________________________________________________________\n",
      "Layer (type)                 Output Shape              Param #   \n",
      "=================================================================\n",
      "conv2d_9 (Conv2D)            (None, 148, 148, 32)      896       \n",
      "_________________________________________________________________\n",
      "max_pooling2d_9 (MaxPooling2 (None, 74, 74, 32)        0         \n",
      "_________________________________________________________________\n",
      "conv2d_10 (Conv2D)           (None, 72, 72, 64)        18496     \n",
      "_________________________________________________________________\n",
      "max_pooling2d_10 (MaxPooling (None, 36, 36, 64)        0         \n",
      "_________________________________________________________________\n",
      "conv2d_11 (Conv2D)           (None, 34, 34, 128)       73856     \n",
      "_________________________________________________________________\n",
      "max_pooling2d_11 (MaxPooling (None, 17, 17, 128)       0         \n",
      "_________________________________________________________________\n",
      "conv2d_12 (Conv2D)           (None, 15, 15, 128)       147584    \n",
      "_________________________________________________________________\n",
      "max_pooling2d_12 (MaxPooling (None, 7, 7, 128)         0         \n",
      "_________________________________________________________________\n",
      "flatten_3 (Flatten)          (None, 6272)              0         \n",
      "_________________________________________________________________\n",
      "dense_5 (Dense)              (None, 512)               3211776   \n",
      "_________________________________________________________________\n",
      "dense_6 (Dense)              (None, 1)                 513       \n",
      "=================================================================\n",
      "Total params: 3,453,121\n",
      "Trainable params: 3,453,121\n",
      "Non-trainable params: 0\n",
      "_________________________________________________________________\n"
     ]
    }
   ],
   "source": [
    "model.summary()"
   ]
  },
  {
   "cell_type": "code",
   "execution_count": 43,
   "metadata": {},
   "outputs": [],
   "source": [
    "from keras import optimizers\n",
    "model.compile(loss='binary_crossentropy',optimizer=optimizers.RMSprop(lr=1e-4),metrics=['acc'])"
   ]
  },
  {
   "cell_type": "code",
   "execution_count": 44,
   "metadata": {},
   "outputs": [],
   "source": [
    "from keras.preprocessing.image import ImageDataGenerator"
   ]
  },
  {
   "cell_type": "code",
   "execution_count": 45,
   "metadata": {},
   "outputs": [],
   "source": [
    "train_datagen= ImageDataGenerator(rescale=1./255)\n",
    "test_datagen = ImageDataGenerator(rescale=1./255)"
   ]
  },
  {
   "cell_type": "code",
   "execution_count": 46,
   "metadata": {},
   "outputs": [
    {
     "name": "stdout",
     "output_type": "stream",
     "text": [
      "Found 3000 images belonging to 2 classes.\n"
     ]
    }
   ],
   "source": [
    "train_generator= train_datagen.flow_from_directory(train_dir,target_size=(150,150),batch_size=30,class_mode='binary')\n"
   ]
  },
  {
   "cell_type": "code",
   "execution_count": 47,
   "metadata": {},
   "outputs": [
    {
     "name": "stdout",
     "output_type": "stream",
     "text": [
      "Found 2000 images belonging to 2 classes.\n"
     ]
    }
   ],
   "source": [
    "validation_generator=train_datagen.flow_from_directory(validation_dir,target_size=(150,150),batch_size=20,class_mode='binary')"
   ]
  },
  {
   "cell_type": "code",
   "execution_count": 48,
   "metadata": {},
   "outputs": [
    {
     "name": "stdout",
     "output_type": "stream",
     "text": [
      "data batch shape: (30, 150, 150, 3)\n",
      "labels batch shape: (30,)\n"
     ]
    }
   ],
   "source": [
    "for data_batch, labels_batch in train_generator:\n",
    "    print('data batch shape:', data_batch.shape)\n",
    "    print('labels batch shape:', labels_batch.shape)\n",
    "    break"
   ]
  },
  {
   "cell_type": "code",
   "execution_count": 49,
   "metadata": {},
   "outputs": [
    {
     "name": "stdout",
     "output_type": "stream",
     "text": [
      "Epoch 1/25\n",
      "100/100 [==============================] - 100s 1s/step - loss: 0.6922 - acc: 0.5237 - val_loss: 0.6745 - val_acc: 0.5575\n",
      "Epoch 2/25\n",
      "100/100 [==============================] - 99s 988ms/step - loss: 0.6567 - acc: 0.6120 - val_loss: 0.6280 - val_acc: 0.6605\n",
      "Epoch 3/25\n",
      "100/100 [==============================] - 102s 1s/step - loss: 0.6034 - acc: 0.6767 - val_loss: 0.5850 - val_acc: 0.7005\n",
      "Epoch 4/25\n",
      "100/100 [==============================] - 101s 1s/step - loss: 0.5563 - acc: 0.7080 - val_loss: 0.5514 - val_acc: 0.7215\n",
      "Epoch 5/25\n",
      "100/100 [==============================] - 102s 1s/step - loss: 0.5212 - acc: 0.7397 - val_loss: 0.5416 - val_acc: 0.7280\n",
      "Epoch 6/25\n",
      "100/100 [==============================] - 104s 1s/step - loss: 0.4903 - acc: 0.7647 - val_loss: 0.5335 - val_acc: 0.7330\n",
      "Epoch 7/25\n",
      "100/100 [==============================] - 102s 1s/step - loss: 0.4558 - acc: 0.7850 - val_loss: 0.5036 - val_acc: 0.7535\n",
      "Epoch 8/25\n",
      "100/100 [==============================] - 107s 1s/step - loss: 0.4331 - acc: 0.8023 - val_loss: 0.4947 - val_acc: 0.7670\n",
      "Epoch 9/25\n",
      "100/100 [==============================] - 103s 1s/step - loss: 0.4176 - acc: 0.8107 - val_loss: 0.4917 - val_acc: 0.7695\n",
      "Epoch 10/25\n",
      "100/100 [==============================] - 102s 1s/step - loss: 0.3893 - acc: 0.8257 - val_loss: 0.5052 - val_acc: 0.7490\n",
      "Epoch 11/25\n",
      "100/100 [==============================] - 102s 1s/step - loss: 0.3750 - acc: 0.8307 - val_loss: 0.5992 - val_acc: 0.7200\n",
      "Epoch 12/25\n",
      "100/100 [==============================] - 101s 1s/step - loss: 0.3458 - acc: 0.8637 - val_loss: 0.5302 - val_acc: 0.7485\n",
      "Epoch 13/25\n",
      "100/100 [==============================] - 103s 1s/step - loss: 0.3364 - acc: 0.8557 - val_loss: 0.5056 - val_acc: 0.7630\n",
      "Epoch 14/25\n",
      "100/100 [==============================] - 104s 1s/step - loss: 0.3137 - acc: 0.8640 - val_loss: 0.5003 - val_acc: 0.7635\n",
      "Epoch 15/25\n",
      "100/100 [==============================] - 110s 1s/step - loss: 0.2918 - acc: 0.8783 - val_loss: 0.5114 - val_acc: 0.7660\n",
      "Epoch 16/25\n",
      "100/100 [==============================] - 109s 1s/step - loss: 0.2717 - acc: 0.8917 - val_loss: 0.5046 - val_acc: 0.7650\n",
      "Epoch 17/25\n",
      "100/100 [==============================] - 101s 1s/step - loss: 0.2528 - acc: 0.8980 - val_loss: 0.5135 - val_acc: 0.7710\n",
      "Epoch 18/25\n",
      "100/100 [==============================] - 96s 956ms/step - loss: 0.2314 - acc: 0.9013 - val_loss: 0.5515 - val_acc: 0.7580\n",
      "Epoch 19/25\n",
      "100/100 [==============================] - 97s 974ms/step - loss: 0.2105 - acc: 0.9210 - val_loss: 0.5525 - val_acc: 0.7605\n",
      "Epoch 20/25\n",
      "100/100 [==============================] - 97s 971ms/step - loss: 0.1921 - acc: 0.9267 - val_loss: 0.5714 - val_acc: 0.7720\n",
      "Epoch 21/25\n",
      "100/100 [==============================] - 105s 1s/step - loss: 0.1776 - acc: 0.9353 - val_loss: 0.6209 - val_acc: 0.7460\n",
      "Epoch 22/25\n",
      "100/100 [==============================] - 107s 1s/step - loss: 0.1542 - acc: 0.9457 - val_loss: 0.6675 - val_acc: 0.7560\n",
      "Epoch 23/25\n",
      "100/100 [==============================] - 99s 994ms/step - loss: 0.1415 - acc: 0.9487 - val_loss: 0.6225 - val_acc: 0.7640\n",
      "Epoch 24/25\n",
      "100/100 [==============================] - 111s 1s/step - loss: 0.1298 - acc: 0.9553 - val_loss: 0.6139 - val_acc: 0.7735\n",
      "Epoch 25/25\n",
      "100/100 [==============================] - 143s 1s/step - loss: 0.1110 - acc: 0.9627 - val_loss: 0.6418 - val_acc: 0.7635\n"
     ]
    }
   ],
   "source": [
    "history = model.fit_generator(\n",
    "      train_generator,\n",
    "      steps_per_epoch=100,\n",
    "      epochs=25,\n",
    "      validation_data=validation_generator,\n",
    "      validation_steps=100)"
   ]
  },
  {
   "cell_type": "code",
   "execution_count": 50,
   "metadata": {},
   "outputs": [],
   "source": [
    "model.save('cats_and_dogs_small_1.h5')"
   ]
  },
  {
   "cell_type": "code",
   "execution_count": 51,
   "metadata": {},
   "outputs": [],
   "source": [
    "#model.save('cats_and_dogs_small_1.h5')\n",
    "import matplotlib.pyplot as plt\n",
    "%matplotlib inline\n",
    "acc= history.history['acc']\n",
    "val_acc= history.history['val_acc']\n",
    "loss= history.history['loss']\n",
    "val_loss=history.history['val_loss']\n",
    "epoch= range(1,len(acc)+1)"
   ]
  },
  {
   "cell_type": "code",
   "execution_count": 52,
   "metadata": {},
   "outputs": [
    {
     "data": {
      "text/plain": [
       "Text(0,0.5,'Accuracy')"
      ]
     },
     "execution_count": 52,
     "metadata": {},
     "output_type": "execute_result"
    },
    {
     "data": {
      "image/png": "[encoded data removed]",
      "text/plain": [
       "<Figure size 432x288 with 1 Axes>"
      ]
     },
     "metadata": {},
     "output_type": "display_data"
    }
   ],
   "source": [
    "plt.plot(epoch,acc,'bo',label='training accuracy')\n",
    "plt.plot(epoch,val_acc,'r',label='validation accuracy')\n",
    "plt.title('Training and validation accuracy')\n",
    "plt.legend()\n",
    "plt.xlabel('Epochs')\n",
    "plt.ylabel('Accuracy')"
   ]
  },
  {
   "cell_type": "code",
   "execution_count": 53,
   "metadata": {},
   "outputs": [
    {
     "data": {
      "text/plain": [
       "Text(0,0.5,'Accuracy')"
      ]
     },
     "execution_count": 53,
     "metadata": {},
     "output_type": "execute_result"
    },
    {
     "data": {
      "image/png": "[encoded data removed]",
      "text/plain": [
       "<Figure size 432x288 with 1 Axes>"
      ]
     },
     "metadata": {},
     "output_type": "display_data"
    }
   ],
   "source": [
    "plt.figure()\n",
    "plt.plot(epoch,loss,'bo',label='training accuracy')\n",
    "plt.plot(epoch,val_loss,'r',label='validation accuracy')\n",
    "plt.title('Training and validation accuracy')\n",
    "plt.legend()\n",
    "plt.xlabel('Epochs')\n",
    "plt.ylabel('Accuracy')"
   ]
  },
  {
   "cell_type": "code",
   "execution_count": null,
   "metadata": {},
   "outputs": [],
   "source": []
  }
 ],
 "metadata": {
  "kernelspec": {
   "display_name": "Python 3",
   "language": "python",
   "name": "python3"
  },
  "language_info": {
   "codemirror_mode": {
    "name": "ipython",
    "version": 3
   },
   "file_extension": ".py",
   "mimetype": "text/x-python",
   "name": "python",
   "nbconvert_exporter": "python",
   "pygments_lexer": "ipython3",
   "version": "3.6.5"
  }
 },
 "nbformat": 4,
 "nbformat_minor": 2
}
