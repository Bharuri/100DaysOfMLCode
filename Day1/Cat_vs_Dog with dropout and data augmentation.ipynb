{
 "cells": [
  {
   "cell_type": "code",
   "execution_count": 1,
   "metadata": {},
   "outputs": [],
   "source": [
    "import os, shutil\n",
    "original_base_dir =\"/Users/pushkarsinghbhauryal/downloads/pythontest/train\"\n",
    "base_dir= \"/Users/pushkarsinghbhauryal/downloads/pythontest/cat_and_dog\"\n",
    "if not os.path.exists(base_dir):\n",
    "    os.makedirs(base_dir)"
   ]
  },
  {
   "cell_type": "code",
   "execution_count": 2,
   "metadata": {},
   "outputs": [],
   "source": [
    "train_dir = os.path.join(base_dir, 'train')\n",
    "if not os.path.exists(train_dir):\n",
    "    os.mkdir(train_dir)\n",
    "validation_dir = os.path.join(base_dir, 'validation')\n",
    "if not os.path.exists(validation_dir):\n",
    "    os.mkdir(validation_dir)\n",
    "test_dir = os.path.join(base_dir, 'test')\n",
    "if not os.path.exists(test_dir):\n",
    "    os.mkdir(test_dir)"
   ]
  },
  {
   "cell_type": "code",
   "execution_count": 3,
   "metadata": {},
   "outputs": [],
   "source": [
    "train_cats_dir = os.path.join(train_dir, 'cats')\n",
    "if not os.path.exists(train_cats_dir):\n",
    "    os.mkdir(train_cats_dir)\n",
    "train_dogs_dir = os.path.join(train_dir, 'dogs')\n",
    "if not os.path.exists(train_dogs_dir):\n",
    "    os.mkdir(train_dogs_dir)\n",
    "validation_cats_dir = os.path.join(validation_dir, 'cats')\n",
    "if not os.path.exists(validation_cats_dir):\n",
    "    os.mkdir(validation_cats_dir)\n",
    "validation_dogs_dir = os.path.join(validation_dir, 'dogs')\n",
    "if not os.path.exists(validation_dogs_dir):\n",
    "    os.mkdir(validation_dogs_dir)\n",
    "test_cats_dir = os.path.join(test_dir, 'cats')\n",
    "if not os.path.exists(test_cats_dir):\n",
    "    os.mkdir(test_cats_dir)\n",
    "test_dogs_dir = os.path.join(test_dir, 'dogs')\n",
    "if not os.path.exists(test_dogs_dir):\n",
    "    os.mkdir(test_dogs_dir)"
   ]
  },
  {
   "cell_type": "code",
   "execution_count": 4,
   "metadata": {},
   "outputs": [],
   "source": [
    "fnames = ['cat.{}.jpg'.format(i) for i in range(1500)]\n",
    "for fname in fnames:\n",
    "    src = os.path.join(original_base_dir, fname)\n",
    "    dst = os.path.join(train_cats_dir, fname)\n",
    "    shutil.copyfile(src, dst)\n",
    "fnames = ['cat.{}.jpg'.format(i) for i in range(1500,2500)]\n",
    "for fname in fnames:\n",
    "    src = os.path.join(original_base_dir, fname)\n",
    "    dst = os.path.join(validation_cats_dir, fname)\n",
    "    shutil.copyfile(src, dst)"
   ]
  },
  {
   "cell_type": "code",
   "execution_count": 5,
   "metadata": {},
   "outputs": [],
   "source": [
    "fnames = ['dog.{}.jpg'.format(i) for i in range(1500)]\n",
    "for fname in fnames:\n",
    "    src = os.path.join(original_base_dir, fname)\n",
    "    dst = os.path.join(train_dogs_dir, fname)\n",
    "    shutil.copyfile(src, dst)"
   ]
  },
  {
   "cell_type": "code",
   "execution_count": 6,
   "metadata": {},
   "outputs": [],
   "source": [
    "fnames = ['dog.{}.jpg'.format(i) for i in range(3000,4000)]\n",
    "for fname in fnames:\n",
    "    src = os.path.join(original_base_dir, fname)\n",
    "    dst = os.path.join(validation_dogs_dir, fname)\n",
    "    shutil.copyfile(src, dst)"
   ]
  },
  {
   "cell_type": "code",
   "execution_count": 7,
   "metadata": {},
   "outputs": [
    {
     "name": "stderr",
     "output_type": "stream",
     "text": [
      "/anaconda3/lib/python3.6/site-packages/h5py/__init__.py:36: FutureWarning: Conversion of the second argument of issubdtype from `float` to `np.floating` is deprecated. In future, it will be treated as `np.float64 == np.dtype(float).type`.\n",
      "  from ._conv import register_converters as _register_converters\n",
      "Using TensorFlow backend.\n"
     ]
    }
   ],
   "source": [
    "from keras import models\n",
    "from keras import layers\n",
    "model= models.Sequential()\n",
    "model.add(layers.Conv2D(32,(3,3),activation='relu',input_shape=(150,150,3)))\n",
    "model.add(layers.MaxPooling2D((2,2)))\n",
    "model.add(layers.Conv2D(64,(3,3),activation='relu'))\n",
    "model.add(layers.MaxPooling2D((2,2)))\n",
    "model.add(layers.Conv2D(128,(3,3),activation='relu'))\n",
    "model.add(layers.MaxPooling2D((2,2)))\n",
    "model.add(layers.Conv2D(128,(3,3),activation='relu'))\n",
    "model.add(layers.MaxPooling2D((2,2)))\n",
    "model.add(layers.Flatten())\n",
    "model.add(layers.Dropout(0.5))\n",
    "model.add(layers.Dense(512,activation='relu'))\n",
    "model.add(layers.Dense(1,activation='sigmoid'))"
   ]
  },
  {
   "cell_type": "code",
   "execution_count": 8,
   "metadata": {},
   "outputs": [
    {
     "name": "stdout",
     "output_type": "stream",
     "text": [
      "_________________________________________________________________\n",
      "Layer (type)                 Output Shape              Param #   \n",
      "=================================================================\n",
      "conv2d_1 (Conv2D)            (None, 148, 148, 32)      896       \n",
      "_________________________________________________________________\n",
      "max_pooling2d_1 (MaxPooling2 (None, 74, 74, 32)        0         \n",
      "_________________________________________________________________\n",
      "conv2d_2 (Conv2D)            (None, 72, 72, 64)        18496     \n",
      "_________________________________________________________________\n",
      "max_pooling2d_2 (MaxPooling2 (None, 36, 36, 64)        0         \n",
      "_________________________________________________________________\n",
      "conv2d_3 (Conv2D)            (None, 34, 34, 128)       73856     \n",
      "_________________________________________________________________\n",
      "max_pooling2d_3 (MaxPooling2 (None, 17, 17, 128)       0         \n",
      "_________________________________________________________________\n",
      "conv2d_4 (Conv2D)            (None, 15, 15, 128)       147584    \n",
      "_________________________________________________________________\n",
      "max_pooling2d_4 (MaxPooling2 (None, 7, 7, 128)         0         \n",
      "_________________________________________________________________\n",
      "flatten_1 (Flatten)          (None, 6272)              0         \n",
      "_________________________________________________________________\n",
      "dropout_1 (Dropout)          (None, 6272)              0         \n",
      "_________________________________________________________________\n",
      "dense_1 (Dense)              (None, 512)               3211776   \n",
      "_________________________________________________________________\n",
      "dense_2 (Dense)              (None, 1)                 513       \n",
      "=================================================================\n",
      "Total params: 3,453,121\n",
      "Trainable params: 3,453,121\n",
      "Non-trainable params: 0\n",
      "_________________________________________________________________\n"
     ]
    }
   ],
   "source": [
    "model.summary()"
   ]
  },
  {
   "cell_type": "code",
   "execution_count": 9,
   "metadata": {},
   "outputs": [],
   "source": [
    "from keras import optimizers\n",
    "model.compile(loss='binary_crossentropy',optimizer=optimizers.RMSprop(lr=1e-4),metrics=['acc'])\n",
    "from keras.preprocessing.image import ImageDataGenerator\n",
    "train_datagen= ImageDataGenerator(rescale=1./255,rotation_range=40,\n",
    "    width_shift_range=0.2,\n",
    "    height_shift_range=0.2,\n",
    "    shear_range=0.2,\n",
    "    zoom_range=0.2,\n",
    "    horizontal_flip=True)\n",
    "test_datagen = ImageDataGenerator(rescale=1./255)"
   ]
  },
  {
   "cell_type": "code",
   "execution_count": 10,
   "metadata": {},
   "outputs": [
    {
     "name": "stdout",
     "output_type": "stream",
     "text": [
      "Found 3000 images belonging to 2 classes.\n",
      "Found 2000 images belonging to 2 classes.\n"
     ]
    }
   ],
   "source": [
    "train_generator= train_datagen.flow_from_directory(train_dir,target_size=(150,150),batch_size=64,class_mode='binary')\n",
    "validation_generator=test_datagen.flow_from_directory(validation_dir,target_size=(150,150),batch_size=20,class_mode='binary')"
   ]
  },
  {
   "cell_type": "code",
   "execution_count": 12,
   "metadata": {},
   "outputs": [
    {
     "name": "stdout",
     "output_type": "stream",
     "text": [
      "data batch shape: (50, 150, 150, 3)\n",
      "labels batch shape: (50,)\n"
     ]
    }
   ],
   "source": [
    "for data_batch, labels_batch in train_generator:\n",
    "    print('data batch shape:', data_batch.shape)\n",
    "    print('labels batch shape:', labels_batch.shape)\n",
    "    break"
   ]
  },
  {
   "cell_type": "code",
   "execution_count": 11,
   "metadata": {},
   "outputs": [
    {
     "name": "stdout",
     "output_type": "stream",
     "text": [
      "Epoch 1/70\n",
      "80/80 [==============================] - 151s 2s/step - loss: 0.6879 - acc: 0.5374 - val_loss: 0.6684 - val_acc: 0.5905\n",
      "Epoch 2/70\n",
      "80/80 [==============================] - 150s 2s/step - loss: 0.6746 - acc: 0.5775 - val_loss: 0.6567 - val_acc: 0.6080\n",
      "Epoch 3/70\n",
      "80/80 [==============================] - 156s 2s/step - loss: 0.6607 - acc: 0.5966 - val_loss: 0.6340 - val_acc: 0.6515\n",
      "Epoch 4/70\n",
      "80/80 [==============================] - 152s 2s/step - loss: 0.6442 - acc: 0.6239 - val_loss: 0.6241 - val_acc: 0.6480\n",
      "Epoch 5/70\n",
      "80/80 [==============================] - 154s 2s/step - loss: 0.6240 - acc: 0.6508 - val_loss: 0.6869 - val_acc: 0.6010\n",
      "Epoch 6/70\n",
      "80/80 [==============================] - 150s 2s/step - loss: 0.6084 - acc: 0.6631 - val_loss: 0.5854 - val_acc: 0.6890\n",
      "Epoch 7/70\n",
      "80/80 [==============================] - 156s 2s/step - loss: 0.6059 - acc: 0.6707 - val_loss: 0.6747 - val_acc: 0.6055\n",
      "Epoch 8/70\n",
      "80/80 [==============================] - 151s 2s/step - loss: 0.5958 - acc: 0.6806 - val_loss: 0.5641 - val_acc: 0.7110\n",
      "Epoch 9/70\n",
      "80/80 [==============================] - 155s 2s/step - loss: 0.5782 - acc: 0.6880 - val_loss: 0.5670 - val_acc: 0.6995\n",
      "Epoch 10/70\n",
      "80/80 [==============================] - 160s 2s/step - loss: 0.5759 - acc: 0.6924 - val_loss: 0.5556 - val_acc: 0.7135\n",
      "Epoch 11/70\n",
      "80/80 [==============================] - 164s 2s/step - loss: 0.5694 - acc: 0.7015 - val_loss: 0.5586 - val_acc: 0.7115\n",
      "Epoch 12/70\n",
      "80/80 [==============================] - 156s 2s/step - loss: 0.5609 - acc: 0.7117 - val_loss: 0.5556 - val_acc: 0.7175\n",
      "Epoch 13/70\n",
      "80/80 [==============================] - 152s 2s/step - loss: 0.5547 - acc: 0.7154 - val_loss: 0.5581 - val_acc: 0.7100\n",
      "Epoch 14/70\n",
      "80/80 [==============================] - 165s 2s/step - loss: 0.5472 - acc: 0.7148 - val_loss: 0.5324 - val_acc: 0.7255\n",
      "Epoch 15/70\n",
      "80/80 [==============================] - 168s 2s/step - loss: 0.5423 - acc: 0.7249 - val_loss: 0.5668 - val_acc: 0.7110\n",
      "Epoch 16/70\n",
      "80/80 [==============================] - 167s 2s/step - loss: 0.5335 - acc: 0.7328 - val_loss: 0.5209 - val_acc: 0.7380\n",
      "Epoch 17/70\n",
      "80/80 [==============================] - 157s 2s/step - loss: 0.5301 - acc: 0.7321 - val_loss: 0.5430 - val_acc: 0.7270\n",
      "Epoch 18/70\n",
      "80/80 [==============================] - 156s 2s/step - loss: 0.5292 - acc: 0.7285 - val_loss: 0.5740 - val_acc: 0.7060\n",
      "Epoch 19/70\n",
      "80/80 [==============================] - 166s 2s/step - loss: 0.5179 - acc: 0.7362 - val_loss: 0.5237 - val_acc: 0.7420\n",
      "Epoch 20/70\n",
      "80/80 [==============================] - 160s 2s/step - loss: 0.5156 - acc: 0.7491 - val_loss: 0.5425 - val_acc: 0.7230\n",
      "Epoch 21/70\n",
      "80/80 [==============================] - 161s 2s/step - loss: 0.5138 - acc: 0.7367 - val_loss: 0.5497 - val_acc: 0.7275\n",
      "Epoch 22/70\n",
      "80/80 [==============================] - 161s 2s/step - loss: 0.5064 - acc: 0.7479 - val_loss: 0.5100 - val_acc: 0.7500\n",
      "Epoch 23/70\n",
      "80/80 [==============================] - 163s 2s/step - loss: 0.5022 - acc: 0.7522 - val_loss: 0.5268 - val_acc: 0.7450\n",
      "Epoch 24/70\n",
      "80/80 [==============================] - 159s 2s/step - loss: 0.5048 - acc: 0.7506 - val_loss: 0.5519 - val_acc: 0.7385\n",
      "Epoch 25/70\n",
      "80/80 [==============================] - 160s 2s/step - loss: 0.5011 - acc: 0.7553 - val_loss: 0.4948 - val_acc: 0.7680\n",
      "Epoch 26/70\n",
      "80/80 [==============================] - 159s 2s/step - loss: 0.4891 - acc: 0.7592 - val_loss: 0.5180 - val_acc: 0.7470\n",
      "Epoch 27/70\n",
      "80/80 [==============================] - 157s 2s/step - loss: 0.4914 - acc: 0.7563 - val_loss: 0.4906 - val_acc: 0.7565\n",
      "Epoch 28/70\n",
      "80/80 [==============================] - 157s 2s/step - loss: 0.4859 - acc: 0.7660 - val_loss: 0.5009 - val_acc: 0.7615\n",
      "Epoch 29/70\n",
      "80/80 [==============================] - 156s 2s/step - loss: 0.4880 - acc: 0.7628 - val_loss: 0.4916 - val_acc: 0.7695\n",
      "Epoch 30/70\n",
      "80/80 [==============================] - 159s 2s/step - loss: 0.4876 - acc: 0.7635 - val_loss: 0.5083 - val_acc: 0.7655\n",
      "Epoch 31/70\n",
      "80/80 [==============================] - 154s 2s/step - loss: 0.4753 - acc: 0.7664 - val_loss: 0.5007 - val_acc: 0.7585\n",
      "Epoch 32/70\n",
      "80/80 [==============================] - 156s 2s/step - loss: 0.4795 - acc: 0.7716 - val_loss: 0.4738 - val_acc: 0.7725\n",
      "Epoch 33/70\n",
      "80/80 [==============================] - 154s 2s/step - loss: 0.4790 - acc: 0.7662 - val_loss: 0.4932 - val_acc: 0.7635\n",
      "Epoch 34/70\n",
      "80/80 [==============================] - 155s 2s/step - loss: 0.4747 - acc: 0.7738 - val_loss: 0.4907 - val_acc: 0.7640\n",
      "Epoch 35/70\n",
      "80/80 [==============================] - 153s 2s/step - loss: 0.4642 - acc: 0.7777 - val_loss: 0.4807 - val_acc: 0.7735\n",
      "Epoch 36/70\n",
      "80/80 [==============================] - 152s 2s/step - loss: 0.4620 - acc: 0.7804 - val_loss: 0.4936 - val_acc: 0.7640\n",
      "Epoch 37/70\n",
      "80/80 [==============================] - 150s 2s/step - loss: 0.4597 - acc: 0.7805 - val_loss: 0.4568 - val_acc: 0.7860\n",
      "Epoch 38/70\n",
      "80/80 [==============================] - 152s 2s/step - loss: 0.4603 - acc: 0.7815 - val_loss: 0.4712 - val_acc: 0.7865\n",
      "Epoch 39/70\n",
      "80/80 [==============================] - 151s 2s/step - loss: 0.4581 - acc: 0.7815 - val_loss: 0.4619 - val_acc: 0.7845\n",
      "Epoch 40/70\n",
      "80/80 [==============================] - 150s 2s/step - loss: 0.4441 - acc: 0.7815 - val_loss: 0.4591 - val_acc: 0.7870\n",
      "Epoch 41/70\n",
      "80/80 [==============================] - 151s 2s/step - loss: 0.4413 - acc: 0.7911 - val_loss: 0.4462 - val_acc: 0.7950\n",
      "Epoch 42/70\n",
      "80/80 [==============================] - 151s 2s/step - loss: 0.4550 - acc: 0.7840 - val_loss: 0.4482 - val_acc: 0.7950\n",
      "Epoch 43/70\n",
      "80/80 [==============================] - 150s 2s/step - loss: 0.4347 - acc: 0.7941 - val_loss: 0.4831 - val_acc: 0.7780\n",
      "Epoch 44/70\n",
      "80/80 [==============================] - 149s 2s/step - loss: 0.4491 - acc: 0.7810 - val_loss: 0.4472 - val_acc: 0.7965\n",
      "Epoch 45/70\n",
      "80/80 [==============================] - 154s 2s/step - loss: 0.4326 - acc: 0.7964 - val_loss: 0.4767 - val_acc: 0.7725\n",
      "Epoch 46/70\n",
      "80/80 [==============================] - 159s 2s/step - loss: 0.4276 - acc: 0.8072 - val_loss: 0.4802 - val_acc: 0.7840\n",
      "Epoch 47/70\n",
      "80/80 [==============================] - 154s 2s/step - loss: 0.4399 - acc: 0.7914 - val_loss: 0.4639 - val_acc: 0.7850\n",
      "Epoch 48/70\n",
      "80/80 [==============================] - 161s 2s/step - loss: 0.4362 - acc: 0.7970 - val_loss: 0.4882 - val_acc: 0.7680\n",
      "Epoch 49/70\n",
      "80/80 [==============================] - 155s 2s/step - loss: 0.4270 - acc: 0.8003 - val_loss: 0.4404 - val_acc: 0.8110\n",
      "Epoch 50/70\n",
      "80/80 [==============================] - 152s 2s/step - loss: 0.4194 - acc: 0.7969 - val_loss: 0.4681 - val_acc: 0.7925\n",
      "Epoch 51/70\n",
      "80/80 [==============================] - 152s 2s/step - loss: 0.4191 - acc: 0.7975 - val_loss: 0.4388 - val_acc: 0.8000\n",
      "Epoch 52/70\n",
      "80/80 [==============================] - 153s 2s/step - loss: 0.4228 - acc: 0.8024 - val_loss: 0.4461 - val_acc: 0.8010\n",
      "Epoch 53/70\n",
      "80/80 [==============================] - 158s 2s/step - loss: 0.4206 - acc: 0.8035 - val_loss: 0.4273 - val_acc: 0.8080\n",
      "Epoch 54/70\n",
      "80/80 [==============================] - 152s 2s/step - loss: 0.4140 - acc: 0.8104 - val_loss: 0.4465 - val_acc: 0.7950\n",
      "Epoch 55/70\n",
      "80/80 [==============================] - 153s 2s/step - loss: 0.4131 - acc: 0.8088 - val_loss: 0.4509 - val_acc: 0.7955\n",
      "Epoch 56/70\n",
      "80/80 [==============================] - 154s 2s/step - loss: 0.4160 - acc: 0.8049 - val_loss: 0.4165 - val_acc: 0.8140\n",
      "Epoch 57/70\n",
      "80/80 [==============================] - 160s 2s/step - loss: 0.4048 - acc: 0.8139 - val_loss: 0.4220 - val_acc: 0.8070\n",
      "Epoch 58/70\n",
      "80/80 [==============================] - 154s 2s/step - loss: 0.4191 - acc: 0.8069 - val_loss: 0.4156 - val_acc: 0.8200\n",
      "Epoch 59/70\n",
      "80/80 [==============================] - 154s 2s/step - loss: 0.4146 - acc: 0.8108 - val_loss: 0.4479 - val_acc: 0.7975\n",
      "Epoch 60/70\n",
      "80/80 [==============================] - 154s 2s/step - loss: 0.4094 - acc: 0.8129 - val_loss: 0.4202 - val_acc: 0.8125\n",
      "Epoch 61/70\n",
      "80/80 [==============================] - 158s 2s/step - loss: 0.4031 - acc: 0.8176 - val_loss: 0.4617 - val_acc: 0.7965\n",
      "Epoch 62/70\n",
      "80/80 [==============================] - 155s 2s/step - loss: 0.4057 - acc: 0.8157 - val_loss: 0.4253 - val_acc: 0.7985\n",
      "Epoch 63/70\n"
     ]
    },
    {
     "name": "stdout",
     "output_type": "stream",
     "text": [
      "80/80 [==============================] - 153s 2s/step - loss: 0.4060 - acc: 0.8129 - val_loss: 0.4395 - val_acc: 0.8055\n",
      "Epoch 64/70\n",
      "80/80 [==============================] - 151s 2s/step - loss: 0.3982 - acc: 0.8155 - val_loss: 0.4249 - val_acc: 0.8095\n",
      "Epoch 65/70\n",
      "80/80 [==============================] - 152s 2s/step - loss: 0.3958 - acc: 0.8199 - val_loss: 0.4395 - val_acc: 0.7920\n",
      "Epoch 66/70\n",
      "80/80 [==============================] - 151s 2s/step - loss: 0.3996 - acc: 0.8127 - val_loss: 0.4341 - val_acc: 0.8115\n",
      "Epoch 67/70\n",
      "80/80 [==============================] - 159s 2s/step - loss: 0.3849 - acc: 0.8282 - val_loss: 0.4028 - val_acc: 0.8285\n",
      "Epoch 68/70\n",
      "80/80 [==============================] - 151s 2s/step - loss: 0.3900 - acc: 0.8175 - val_loss: 0.4152 - val_acc: 0.8310\n",
      "Epoch 69/70\n",
      "80/80 [==============================] - 162s 2s/step - loss: 0.3886 - acc: 0.8250 - val_loss: 0.4134 - val_acc: 0.8140\n",
      "Epoch 70/70\n",
      "80/80 [==============================] - 155s 2s/step - loss: 0.3922 - acc: 0.8231 - val_loss: 0.3962 - val_acc: 0.8290\n"
     ]
    }
   ],
   "source": [
    "history = model.fit_generator(\n",
    "      train_generator,\n",
    "      steps_per_epoch=80,\n",
    "      epochs=70,\n",
    "      validation_data=validation_generator,\n",
    "      validation_steps=100)"
   ]
  },
  {
   "cell_type": "code",
   "execution_count": 12,
   "metadata": {},
   "outputs": [],
   "source": [
    "model.save('cats_and_dogs_small_2.h5')\n",
    "import matplotlib.pyplot as plt\n",
    "%matplotlib inline\n",
    "acc= history.history['acc']\n",
    "val_acc= history.history['val_acc']\n",
    "loss= history.history['loss']\n",
    "val_loss=history.history['val_loss']\n",
    "epoch= range(1,len(acc)+1)"
   ]
  },
  {
   "cell_type": "code",
   "execution_count": 13,
   "metadata": {},
   "outputs": [
    {
     "data": {
      "text/plain": [
       "Text(0,0.5,'Accuracy')"
      ]
     },
     "execution_count": 13,
     "metadata": {},
     "output_type": "execute_result"
    },
    {
     "data": {
      "image/png": "[encoded data removed]",
      "text/plain": [
       "<Figure size 432x288 with 1 Axes>"
      ]
     },
     "metadata": {},
     "output_type": "display_data"
    }
   ],
   "source": [
    "plt.plot(epoch,acc,'bo',label='training accuracy')\n",
    "plt.plot(epoch,val_acc,'r',label='validation accuracy')\n",
    "plt.title('Training and validation accuracy')\n",
    "plt.legend()\n",
    "plt.xlabel('Epochs')\n",
    "plt.ylabel('Accuracy')"
   ]
  },
  {
   "cell_type": "code",
   "execution_count": 15,
   "metadata": {},
   "outputs": [
    {
     "data": {
      "text/plain": [
       "Text(0,0.5,'Loss')"
      ]
     },
     "execution_count": 15,
     "metadata": {},
     "output_type": "execute_result"
    },
    {
     "data": {
      "image/png": "[encoded data removed]",
      "text/plain": [
       "<Figure size 432x288 with 1 Axes>"
      ]
     },
     "metadata": {},
     "output_type": "display_data"
    }
   ],
   "source": [
    "plt.figure()\n",
    "plt.plot(epoch,loss,'bo',label='training accuracy')\n",
    "plt.plot(epoch,val_loss,'r',label='validation accuracy')\n",
    "plt.title('Training and validation Loss')\n",
    "plt.legend()\n",
    "plt.xlabel('Epochs')\n",
    "plt.ylabel('Loss')"
   ]
  },
  {
   "cell_type": "code",
   "execution_count": null,
   "metadata": {},
   "outputs": [],
   "source": []
  }
 ],
 "metadata": {
  "kernelspec": {
   "display_name": "Python 3",
   "language": "python",
   "name": "python3"
  },
  "language_info": {
   "codemirror_mode": {
    "name": "ipython",
    "version": 3
   },
   "file_extension": ".py",
   "mimetype": "text/x-python",
   "name": "python",
   "nbconvert_exporter": "python",
   "pygments_lexer": "ipython3",
   "version": "3.6.5"
  }
 },
 "nbformat": 4,
 "nbformat_minor": 2
}
